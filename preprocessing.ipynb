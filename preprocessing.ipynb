{
 "cells": [
  {
   "cell_type": "code",
   "execution_count": 40,
   "metadata": {},
   "outputs": [],
   "source": [
    "import cv2\n",
    "import os\n",
    "from enum import Enum\n",
    "from scipy.signal import wiener\n",
    "from skimage.restoration import unsupervised_wiener, richardson_lucy "
   ]
  },
  {
   "cell_type": "code",
   "execution_count": 41,
   "metadata": {},
   "outputs": [],
   "source": [
    "# Noise & Artifact Removal\n",
    "# Resize images\n",
    "# Possibly change all views to a single view"
   ]
  },
  {
   "cell_type": "code",
   "execution_count": 42,
   "metadata": {},
   "outputs": [],
   "source": [
    "# Flags\n",
    "class NoiseRemoval(Enum):\n",
    "    GAUSSIAN = 1\n",
    "    MEDIAN = 2\n",
    "    BILATERAL = 3\n",
    "    NONE = 4\n",
    "\n",
    "class Resize(Enum):\n",
    "    MIN = 1\n",
    "    MAX = 2\n",
    "    NONE = 3\n",
    "\n",
    "class Color(Enum):\n",
    "    GRAYSCALE = 1\n",
    "    RGB = 2\n",
    "\n",
    "class BlurRemoval(Enum):\n",
    "    WIENER_FILTER = 1\n",
    "    BLIND_DECONVOLUTION = 2\n",
    "    RICHARDSON_LUCY = 3\n",
    "    NONE = 4\n",
    "\n",
    "class View(Enum): # TODO: Figure out what to do with views\n",
    "    SINGLE = 1\n",
    "    ALL = 2"
   ]
  },
  {
   "cell_type": "code",
   "execution_count": 43,
   "metadata": {},
   "outputs": [],
   "source": [
    "# Constants\n",
    "DATASET_PATH = 'dataset'\n",
    "FLOODED_PATH = 'dataset/flooded'\n",
    "NON_FLOODED_PATH = 'dataset/non-flooded'"
   ]
  },
  {
   "cell_type": "code",
   "execution_count": 44,
   "metadata": {},
   "outputs": [
    {
     "name": "stdout",
     "output_type": "stream",
     "text": [
      "Dataset size:  922\n",
      "Flooded images:  461\n",
      "Non-flooded images:  461\n"
     ]
    }
   ],
   "source": [
    "path = os.getcwd()\n",
    "\n",
    "images_paths = []\n",
    "images = []\n",
    "labels = []\n",
    "\n",
    "folder_path = os.path.join(path, FLOODED_PATH)\n",
    "for image in os.listdir(folder_path):\n",
    "    image_path = os.path.join(folder_path, image)\n",
    "    images_paths.append(image_path)\n",
    "    images.append(cv2.imread(image_path))\n",
    "    labels.append(1)\n",
    "\n",
    "folder_path = os.path.join(path, NON_FLOODED_PATH)\n",
    "for image in os.listdir(folder_path):\n",
    "    image_path = os.path.join(folder_path, image)\n",
    "    images_paths.append(image_path)\n",
    "    images.append(cv2.imread(image_path))\n",
    "    labels.append(0)\n",
    "\n",
    "print('Dataset size: ', len(images))\n",
    "print('Flooded images: ', labels.count(1))\n",
    "print('Non-flooded images: ', labels.count(0))"
   ]
  },
  {
   "cell_type": "code",
   "execution_count": 45,
   "metadata": {},
   "outputs": [],
   "source": [
    "# Noise Removal Techniques\n",
    "# TODO: Add more noise removal techniques\n",
    "# TODO: Check if the parameters need to be changed\n",
    "def noise_removal(image, noise_removal):\n",
    "    if noise_removal == NoiseRemoval.GAUSSIAN:\n",
    "        return cv2.GaussianBlur(image, (5, 5), 0)\n",
    "    elif noise_removal == NoiseRemoval.MEDIAN:\n",
    "        return cv2.medianBlur(image, 5)\n",
    "    elif noise_removal == NoiseRemoval.BILATERAL:\n",
    "        return cv2.bilateralFilter(image, 9, 75, 75)\n",
    "    else:\n",
    "        return image"
   ]
  },
  {
   "cell_type": "code",
   "execution_count": 46,
   "metadata": {},
   "outputs": [],
   "source": [
    "# Blur Removal Techniques\n",
    "def blur_removal(image, blur_removal):\n",
    "    if blur_removal == BlurRemoval.WIENER_FILTER:\n",
    "        return wiener(image, (5, 5))\n",
    "    elif blur_removal == BlurRemoval.BLIND_DECONVOLUTION:\n",
    "        return unsupervised_wiener(image)\n",
    "    elif blur_removal == BlurRemoval.RICHARDSON_LUCY:\n",
    "        return richardson_lucy(image, 5)\n",
    "    else:\n",
    "        return image"
   ]
  },
  {
   "cell_type": "code",
   "execution_count": 47,
   "metadata": {},
   "outputs": [],
   "source": [
    "def get_resize_dims(images):\n",
    "    max_resize_dims = None\n",
    "    min_resize_dims = None\n",
    "\n",
    "    # Iterate over all the images to find the maximum or minimum dimensions\n",
    "    min_h, min_w = float(\"inf\"), float(\"inf\")\n",
    "    for image in images:\n",
    "        h, w, _ = image.shape\n",
    "        min_h = min(min_h, h)\n",
    "        min_w = min(min_w, w)\n",
    "    min_dimension = min(min_h, min_w)\n",
    "    min_resize_dims = (min_dimension, min_dimension)\n",
    "\n",
    "    max_h, max_w = 0, 0\n",
    "    for image in images:\n",
    "        h, w, _ = image.shape\n",
    "        max_h = max(max_h, h)\n",
    "        max_w = max(max_w, w)\n",
    "    max_dimension = max(max_h, max_w)\n",
    "    max_resize_dims = (max_dimension, max_dimension)\n",
    "\n",
    "    return min_resize_dims, max_resize_dims"
   ]
  },
  {
   "cell_type": "code",
   "execution_count": 48,
   "metadata": {},
   "outputs": [],
   "source": [
    "min_resize_dims, max_resize_dims = get_resize_dims(images)"
   ]
  },
  {
   "cell_type": "code",
   "execution_count": 49,
   "metadata": {},
   "outputs": [
    {
     "name": "stdout",
     "output_type": "stream",
     "text": [
      "Minimum resize dimensions:  (123, 123)\n",
      "Maximum resize dimensions:  (4720, 4720)\n"
     ]
    }
   ],
   "source": [
    "print('Minimum resize dimensions: ', min_resize_dims)\n",
    "print('Maximum resize dimensions: ', max_resize_dims)"
   ]
  },
  {
   "cell_type": "code",
   "execution_count": 50,
   "metadata": {},
   "outputs": [],
   "source": [
    "# Resize images\n",
    "def resize_image(image, resize):\n",
    "    resize_dims = min_resize_dims if resize == Resize.MIN else max_resize_dims\n",
    "    return cv2.resize(image, resize_dims, interpolation=cv2.INTER_AREA)"
   ]
  },
  {
   "cell_type": "code",
   "execution_count": 51,
   "metadata": {},
   "outputs": [],
   "source": [
    "# Main pipeline\n",
    "def preprocess(image, noise=NoiseRemoval.GAUSSIAN, blur=BlurRemoval.WIENER_FILTER, resize=Resize.MIN, color=Color.GRAYSCALE):\n",
    "    if color == Color.GRAYSCALE:\n",
    "        image = cv2.cvtColor(image, cv2.COLOR_BGR2GRAY)\n",
    "\n",
    "    image = resize_image(image, resize)\n",
    "\n",
    "    image = noise_removal(image, noise)\n",
    "    \n",
    "    image = blur_removal(image, blur)\n",
    "\n",
    "    return image"
   ]
  },
  {
   "cell_type": "code",
   "execution_count": 52,
   "metadata": {},
   "outputs": [
    {
     "name": "stderr",
     "output_type": "stream",
     "text": [
      "c:\\Users\\Coformatique\\Abdullah\\GitHub\\Flooding-Detection\\.venv\\lib\\site-packages\\scipy\\signal\\_signaltools.py:1629: RuntimeWarning: divide by zero encountered in divide\n",
      "  res *= (1 - noise / lVar)\n",
      "c:\\Users\\Coformatique\\Abdullah\\GitHub\\Flooding-Detection\\.venv\\lib\\site-packages\\scipy\\signal\\_signaltools.py:1629: RuntimeWarning: invalid value encountered in multiply\n",
      "  res *= (1 - noise / lVar)\n"
     ]
    }
   ],
   "source": [
    "# Pipeline for all images\n",
    "for i in range(len(images)):\n",
    "    images[i] = preprocess(images[i])"
   ]
  }
 ],
 "metadata": {
  "kernelspec": {
   "display_name": ".venv",
   "language": "python",
   "name": "python3"
  },
  "language_info": {
   "codemirror_mode": {
    "name": "ipython",
    "version": 3
   },
   "file_extension": ".py",
   "mimetype": "text/x-python",
   "name": "python",
   "nbconvert_exporter": "python",
   "pygments_lexer": "ipython3",
   "version": "3.10.5"
  },
  "orig_nbformat": 4
 },
 "nbformat": 4,
 "nbformat_minor": 2
}
