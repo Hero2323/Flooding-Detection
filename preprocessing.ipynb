{
 "cells": [
  {
   "cell_type": "code",
   "execution_count": 2,
   "metadata": {},
   "outputs": [],
   "source": [
    "import cv2\n",
    "import os\n",
    "from enum import Enum\n",
    "import numpy as np\n",
    "from scipy.signal import wiener\n",
    "from skimage.restoration import unsupervised_wiener, richardson_lucy \n",
    "from tqdm import tqdm"
   ]
  },
  {
   "cell_type": "code",
   "execution_count": 3,
   "metadata": {},
   "outputs": [],
   "source": [
    "# Noise & Artifact Removal\n",
    "# Resize images\n",
    "# Possibly change all views to a single view"
   ]
  },
  {
   "cell_type": "code",
   "execution_count": 4,
   "metadata": {},
   "outputs": [],
   "source": [
    "# Flags\n",
    "class Resize(Enum):\n",
    "    MIN = 1\n",
    "    MAX = 2\n",
    "    MEAN = 3\n",
    "    FIXED_INTERPOLATED = 4\n",
    "    FIXED_CROPPED = 5\n",
    "\n",
    "class Color(Enum):\n",
    "    GRAYSCALE = 1\n",
    "    RGB = 2\n",
    "\n",
    "class NoiseRemoval(Enum):\n",
    "    NONE = 1\n",
    "    GAUSSIAN = 2\n",
    "    MEDIAN = 3\n",
    "    BILATERAL = 4\n",
    "\n",
    "class BlurRemoval(Enum):\n",
    "    NONE = 1\n",
    "    WIENER_FILTER = 2\n",
    "    BLIND_DECONVOLUTION = 3\n",
    "    RICHARDSON_LUCY = 4\n",
    "\n",
    "class View(Enum): # TODO: Figure out what to do with views\n",
    "    SINGLE = 1\n",
    "    ALL = 2"
   ]
  },
  {
   "cell_type": "code",
   "execution_count": 7,
   "metadata": {},
   "outputs": [],
   "source": [
    "# Constants\n",
    "DATASET_PATH = 'dataset'\n",
    "FLOODED_PATH = 'dataset/flooded'\n",
    "NON_FLOODED_PATH = 'dataset/non-flooded'"
   ]
  },
  {
   "cell_type": "code",
   "execution_count": 8,
   "metadata": {},
   "outputs": [
    {
     "name": "stdout",
     "output_type": "stream",
     "text": [
      "Dataset size:  922\n",
      "Flooded images:  461\n",
      "Non-flooded images:  461\n"
     ]
    }
   ],
   "source": [
    "path = os.getcwd()\n",
    "\n",
    "images_paths = []\n",
    "images = []\n",
    "labels = []\n",
    "\n",
    "folder_path = os.path.join(path, FLOODED_PATH)\n",
    "for image in os.listdir(folder_path):\n",
    "    image_path = os.path.join(folder_path, image)\n",
    "    images_paths.append(image_path)\n",
    "    labels.append(1)\n",
    "\n",
    "folder_path = os.path.join(path, NON_FLOODED_PATH)\n",
    "for image in os.listdir(folder_path):\n",
    "    image_path = os.path.join(folder_path, image)\n",
    "    images_paths.append(image_path)\n",
    "    labels.append(0)\n",
    "\n",
    "print('Dataset size: ', len(images_paths))\n",
    "print('Flooded images: ', labels.count(1))\n",
    "print('Non-flooded images: ', labels.count(0))"
   ]
  },
  {
   "cell_type": "code",
   "execution_count": 9,
   "metadata": {},
   "outputs": [],
   "source": [
    "# Noise Removal Techniques\n",
    "# TODO: Add more noise removal techniques\n",
    "# TODO: Check if the parameters need to be changed\n",
    "def noise_removal(image, noise_removal):\n",
    "    if noise_removal == NoiseRemoval.GAUSSIAN:\n",
    "        return cv2.GaussianBlur(image, (5, 5), 0)\n",
    "    elif noise_removal == NoiseRemoval.MEDIAN:\n",
    "        return cv2.medianBlur(image, 5)\n",
    "    elif noise_removal == NoiseRemoval.BILATERAL:\n",
    "        return cv2.bilateralFilter(image, 9, 75, 75)\n",
    "    else:\n",
    "        return image"
   ]
  },
  {
   "cell_type": "code",
   "execution_count": 10,
   "metadata": {},
   "outputs": [],
   "source": [
    "# Blur Removal Techniques\n",
    "def blur_removal(image, blur_removal, color):\n",
    "    if blur_removal == BlurRemoval.WIENER_FILTER:\n",
    "        if color == Color.GRAYSCALE:\n",
    "            return wiener(image, (5, 5))   \n",
    "        else:\n",
    "            red_channel, green_channel, blue_channel = cv2.split(image)\n",
    "            deblurred_red_channel = wiener(red_channel, (5, 5))\n",
    "            deblurred_green_channel = wiener(green_channel, (5, 5))\n",
    "            deblurred_blue_channel = wiener(blue_channel, (5, 5))\n",
    "            deblurred_image = cv2.merge((deblurred_red_channel,\n",
    "                             deblurred_green_channel,\n",
    "                             deblurred_blue_channel))\n",
    "            deblurred_image = np.clip(deblurred_image, 0, 255)\n",
    "            deblurred_image = deblurred_image.astype(np.uint8)\n",
    "            return deblurred_image\n",
    "    elif blur_removal == BlurRemoval.BLIND_DECONVOLUTION:\n",
    "        return unsupervised_wiener(image)\n",
    "    elif blur_removal == BlurRemoval.RICHARDSON_LUCY:\n",
    "        return richardson_lucy(image, 5)\n",
    "    else:\n",
    "        return image"
   ]
  },
  {
   "cell_type": "code",
   "execution_count": 13,
   "metadata": {},
   "outputs": [],
   "source": [
    "# Main pipeline\n",
    "def preprocess(image, noise=NoiseRemoval.GAUSSIAN, blur=BlurRemoval.WIENER_FILTER, resize=Resize.MIN, color=Color.GRAYSCALE):\n",
    "    if color == Color.GRAYSCALE:\n",
    "        image = cv2.cvtColor(image, cv2.COLOR_BGR2GRAY)\n",
    "\n",
    "    image = noise_removal(image, noise)\n",
    "    \n",
    "    # image = blur_removal(image, blur, color)\n",
    "\n",
    "    return image"
   ]
  },
  {
   "cell_type": "code",
   "execution_count": 14,
   "metadata": {},
   "outputs": [
    {
     "data": {
      "text/plain": [
       "'d:\\\\Fourth_Year\\\\Second_Term\\\\BD\\\\Flooding-Detection\\\\dataset/flooded\\\\0.jpg'"
      ]
     },
     "execution_count": 14,
     "metadata": {},
     "output_type": "execute_result"
    }
   ],
   "source": [
    "preprocess(images_paths[0], noise=NoiseRemoval.NONE, blur=BlurRemoval.WIENER_FILTER, color=Color.RGB)"
   ]
  },
  {
   "cell_type": "code",
   "execution_count": 15,
   "metadata": {},
   "outputs": [],
   "source": [
    "# Pipeline for all images\n",
    "for i in range(len(images)):\n",
    "    images[i] = preprocess(images[i])"
   ]
  },
  {
   "cell_type": "code",
   "execution_count": null,
   "metadata": {},
   "outputs": [],
   "source": []
  }
 ],
 "metadata": {
  "kernelspec": {
   "display_name": ".venv",
   "language": "python",
   "name": "python3"
  },
  "language_info": {
   "codemirror_mode": {
    "name": "ipython",
    "version": 3
   },
   "file_extension": ".py",
   "mimetype": "text/x-python",
   "name": "python",
   "nbconvert_exporter": "python",
   "pygments_lexer": "ipython3",
   "version": "3.9.15"
  },
  "orig_nbformat": 4
 },
 "nbformat": 4,
 "nbformat_minor": 2
}
