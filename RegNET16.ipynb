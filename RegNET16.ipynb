{
 "cells": [
  {
   "cell_type": "code",
   "execution_count": 2,
   "metadata": {},
   "outputs": [],
   "source": [
    "import torch\n",
    "import torch.nn as nn\n",
    "import torch.optim as optim \n",
    "from torch.utils.data.dataset import Dataset \n",
    "from torchvision.datasets import ImageFolder\n",
    "from torch.utils.data import DataLoader\n",
    "from torchvision import transforms,models\n",
    "import numpy as np\n",
    "import matplotlib.pyplot as plt\n",
    "import cv2\n",
    "import time\n",
    "import os\n",
    "import shutil\n",
    "from sklearn.metrics import f1_score   \n",
    "from sklearn.metrics import confusion_matrix, classification_report\n",
    "import seaborn as sns\n"
   ]
  },
  {
   "cell_type": "code",
   "execution_count": 3,
   "metadata": {},
   "outputs": [],
   "source": [
    "device = torch.device(\"cuda:0\" if torch.cuda.is_available() else \"cpu\") # device object"
   ]
  },
  {
   "cell_type": "code",
   "execution_count": 4,
   "metadata": {},
   "outputs": [],
   "source": [
    "transforms_train = transforms.Compose([\n",
    "    transforms.Resize((224, 224)),   #must same as here\n",
    "    transforms.RandomResizedCrop(224),\n",
    "    transforms.RandomHorizontalFlip(), # data augmentation\n",
    "    transforms.ToTensor(),\n",
    "    transforms.Normalize([0.485, 0.456, 0.406], [0.229, 0.224, 0.225]) # normalization\n",
    "])"
   ]
  },
  {
   "cell_type": "code",
   "execution_count": 5,
   "metadata": {},
   "outputs": [],
   "source": [
    "transforms_val = transforms.Compose([\n",
    "    transforms.Resize((224, 224)),   #must same as here\n",
    "     transforms.CenterCrop((224, 224)),\n",
    "    transforms.ToTensor(),\n",
    "    transforms.Normalize([0.485, 0.456, 0.406], [0.229, 0.224, 0.225])\n",
    "])"
   ]
  },
  {
   "cell_type": "code",
   "execution_count": 6,
   "metadata": {},
   "outputs": [],
   "source": [
    "transforms_test = transforms.Compose([\n",
    "    transforms.Resize((224, 224)),   #must same as here\n",
    "     transforms.CenterCrop((224, 224)),\n",
    "    transforms.ToTensor(),\n",
    "    transforms.Normalize([0.485, 0.456, 0.406], [0.229, 0.224, 0.225])\n",
    "])"
   ]
  },
  {
   "cell_type": "code",
   "execution_count": 7,
   "metadata": {},
   "outputs": [],
   "source": [
    "train_dir = \"Data/train/\"\n",
    "test_dir = \"Data/test/\"\n",
    "val_dir= \"Data/val/\"\n",
    "train_flooded_dir = \"Data/train/flooded/\"\n",
    "train_non_flooded_dir = \"Data/train/non-flooded/\"\n",
    "val_flooded_dir = \"Data/val/flooded/\"\n",
    "val_non_flooded_dir = \"Data/val/non-flooded/\"\n",
    "test_flooded_dir = \"Data/test/flooded/\"\n",
    "test_non_flooded_dir = \"Data/test/non-flooded/\""
   ]
  },
  {
   "cell_type": "code",
   "execution_count": 8,
   "metadata": {},
   "outputs": [],
   "source": [
    "train_dataset = ImageFolder(train_dir, transforms_train)\n",
    "test_dataset = ImageFolder(test_dir, transforms_test)\n",
    "val_dataset = ImageFolder(val_dir, transforms_val)\n",
    "train_dataloader = DataLoader(train_dataset, batch_size=12, shuffle=True, num_workers=8)\n",
    "val_dataloader = DataLoader(val_dataset, batch_size=12, shuffle=True, num_workers=8)\n",
    "test_dataloader = DataLoader(test_dataset, batch_size=12, shuffle=False, num_workers=8)"
   ]
  },
  {
   "cell_type": "code",
   "execution_count": 9,
   "metadata": {},
   "outputs": [
    {
     "name": "stdout",
     "output_type": "stream",
     "text": [
      "Train dataset size: 644\n",
      "Test dataset size: 140\n",
      "Val dataset size: 138\n",
      "Class names: ['flooded', 'non-flooded']\n"
     ]
    }
   ],
   "source": [
    "print('Train dataset size:', len(train_dataset))\n",
    "print('Test dataset size:', len(test_dataset))\n",
    "print('Val dataset size:', len(val_dataset))\n",
    "class_names = train_dataset.classes\n",
    "print('Class names:', class_names)"
   ]
  },
  {
   "cell_type": "code",
   "execution_count": 10,
   "metadata": {},
   "outputs": [
    {
     "name": "stderr",
     "output_type": "stream",
     "text": [
      "c:\\Users\\rorod\\miniforge3\\envs\\new_python_nlp_2\\lib\\site-packages\\torchvision\\models\\_utils.py:209: UserWarning: The parameter 'pretrained' is deprecated since 0.13 and may be removed in the future, please use 'weights' instead.\n",
      "  f\"The parameter '{pretrained_param}' is deprecated since 0.13 and may be removed in the future, \"\n",
      "c:\\Users\\rorod\\miniforge3\\envs\\new_python_nlp_2\\lib\\site-packages\\torchvision\\models\\_utils.py:223: UserWarning: Arguments other than a weight enum or `None` for 'weights' are deprecated since 0.13 and may be removed in the future. The current behavior is equivalent to passing `weights=RegNet_X_1_6GF_Weights.IMAGENET1K_V1`. You can also use `weights=RegNet_X_1_6GF_Weights.DEFAULT` to get the most up-to-date weights.\n",
      "  warnings.warn(msg)\n"
     ]
    }
   ],
   "source": [
    "model = models.regnet_x_1_6gf(pretrained=True)   #load regNet16 model\n"
   ]
  },
  {
   "cell_type": "code",
   "execution_count": 11,
   "metadata": {},
   "outputs": [],
   "source": [
    "num_features = model.fc.in_features     #extract fc layers features\n"
   ]
  },
  {
   "cell_type": "code",
   "execution_count": 12,
   "metadata": {},
   "outputs": [],
   "source": [
    "model.fc = nn.Linear(num_features, 2) #(num_of_class == 2)\n"
   ]
  },
  {
   "cell_type": "code",
   "execution_count": 13,
   "metadata": {},
   "outputs": [],
   "source": [
    "model = model.to(device) \n"
   ]
  },
  {
   "cell_type": "code",
   "execution_count": 14,
   "metadata": {},
   "outputs": [],
   "source": [
    "criterion = nn.CrossEntropyLoss()  #(set loss function)\n"
   ]
  },
  {
   "cell_type": "code",
   "execution_count": 15,
   "metadata": {},
   "outputs": [],
   "source": [
    "optimizer = optim.SGD(model.parameters(), lr=0.001, momentum=0.9)"
   ]
  },
  {
   "cell_type": "code",
   "execution_count": 17,
   "metadata": {},
   "outputs": [
    {
     "name": "stdout",
     "output_type": "stream",
     "text": [
      "Epoch 0 running\n",
      "[Train #0] Loss: 0.3078 Acc: 87.7329% Time: 105.2470s\n",
      "F1-Score 0.8763693270735524\n",
      "[Val #0] Loss: 0.1286 Acc: 95.6522% Time: 117.8443s\n",
      "F1-Score 0.9565217391304348\n",
      "F1-Score 0.9790209790209791\n",
      "[Test ] Loss: 0.1360 Acc: 97.8571% Timwsee: 129.3527s\n",
      "              precision    recall  f1-score   support\n",
      "\n",
      "           0       0.96      1.00      0.98        67\n",
      "           1       1.00      0.96      0.98        73\n",
      "\n",
      "    accuracy                           0.98       140\n",
      "   macro avg       0.98      0.98      0.98       140\n",
      "weighted avg       0.98      0.98      0.98       140\n",
      "\n",
      "Epoch 1 running\n",
      "[Train #1] Loss: 0.2121 Acc: 92.3913% Time: 235.9117s\n",
      "F1-Score 0.9258698940998487\n",
      "[Val #1] Loss: 0.1206 Acc: 94.9275% Time: 247.8200s\n",
      "F1-Score 0.9473684210526315\n",
      "F1-Score 0.9710144927536232\n",
      "[Test ] Loss: 0.1015 Acc: 97.1429% Timwsee: 259.3074s\n",
      "              precision    recall  f1-score   support\n",
      "\n",
      "           0       0.99      0.96      0.97        72\n",
      "           1       0.96      0.99      0.97        68\n",
      "\n",
      "    accuracy                           0.97       140\n",
      "   macro avg       0.97      0.97      0.97       140\n",
      "weighted avg       0.97      0.97      0.97       140\n",
      "\n",
      "Epoch 2 running\n",
      "[Train #2] Loss: 0.1848 Acc: 91.7702% Time: 385.4846s\n",
      "F1-Score 0.9178294573643412\n",
      "[Val #2] Loss: 0.0690 Acc: 98.5507% Time: 402.3765s\n",
      "F1-Score 0.9855072463768116\n",
      "F1-Score 0.9790209790209791\n",
      "[Test ] Loss: 0.0651 Acc: 97.8571% Timwsee: 420.0600s\n",
      "              precision    recall  f1-score   support\n",
      "\n",
      "           0       0.96      1.00      0.98        67\n",
      "           1       1.00      0.96      0.98        73\n",
      "\n",
      "    accuracy                           0.98       140\n",
      "   macro avg       0.98      0.98      0.98       140\n",
      "weighted avg       0.98      0.98      0.98       140\n",
      "\n",
      "Epoch 3 running\n",
      "[Train #3] Loss: 0.1883 Acc: 91.7702% Time: 591.3207s\n",
      "F1-Score 0.9183359013867488\n",
      "[Val #3] Loss: 0.0738 Acc: 98.5507% Time: 609.1067s\n",
      "F1-Score 0.9852941176470589\n",
      "F1-Score 0.9857142857142858\n",
      "[Test ] Loss: 0.0621 Acc: 98.5714% Timwsee: 626.6877s\n",
      "              precision    recall  f1-score   support\n",
      "\n",
      "           0       0.99      0.99      0.99        70\n",
      "           1       0.99      0.99      0.99        70\n",
      "\n",
      "    accuracy                           0.99       140\n",
      "   macro avg       0.99      0.99      0.99       140\n",
      "weighted avg       0.99      0.99      0.99       140\n",
      "\n",
      "Epoch 4 running\n",
      "[Train #4] Loss: 0.1825 Acc: 93.9441% Time: 800.5704s\n",
      "F1-Score 0.9402756508422665\n",
      "[Val #4] Loss: 0.0910 Acc: 97.1014% Time: 816.8757s\n",
      "F1-Score 0.9701492537313433\n",
      "F1-Score 0.9855072463768115\n",
      "[Test ] Loss: 0.0844 Acc: 98.5714% Timwsee: 831.7951s\n",
      "              precision    recall  f1-score   support\n",
      "\n",
      "           0       1.00      0.97      0.99        72\n",
      "           1       0.97      1.00      0.99        68\n",
      "\n",
      "    accuracy                           0.99       140\n",
      "   macro avg       0.99      0.99      0.99       140\n",
      "weighted avg       0.99      0.99      0.99       140\n",
      "\n",
      "Epoch 5 running\n",
      "[Train #5] Loss: 0.1337 Acc: 94.7205% Time: 999.8869s\n",
      "F1-Score 0.9475308641975309\n",
      "[Val #5] Loss: 0.0543 Acc: 98.5507% Time: 1015.7535s\n",
      "F1-Score 0.9852941176470589\n",
      "F1-Score 0.9929078014184397\n",
      "[Test ] Loss: 0.0469 Acc: 99.2857% Timwsee: 1031.4081s\n",
      "              precision    recall  f1-score   support\n",
      "\n",
      "           0       0.99      1.00      0.99        69\n",
      "           1       1.00      0.99      0.99        71\n",
      "\n",
      "    accuracy                           0.99       140\n",
      "   macro avg       0.99      0.99      0.99       140\n",
      "weighted avg       0.99      0.99      0.99       140\n",
      "\n",
      "Epoch 6 running\n",
      "[Train #6] Loss: 0.1028 Acc: 96.5838% Time: 1193.3398s\n",
      "F1-Score 0.966153846153846\n",
      "[Val #6] Loss: 0.0495 Acc: 98.5507% Time: 1209.6182s\n",
      "F1-Score 0.9855072463768116\n",
      "F1-Score 1.0\n",
      "[Test ] Loss: 0.0397 Acc: 100.0000% Timwsee: 1226.3540s\n",
      "              precision    recall  f1-score   support\n",
      "\n",
      "           0       1.00      1.00      1.00        70\n",
      "           1       1.00      1.00      1.00        70\n",
      "\n",
      "    accuracy                           1.00       140\n",
      "   macro avg       1.00      1.00      1.00       140\n",
      "weighted avg       1.00      1.00      1.00       140\n",
      "\n",
      "Epoch 7 running\n",
      "[Train #7] Loss: 0.1359 Acc: 95.4969% Time: 1500.0272s\n",
      "F1-Score 0.9553158705701079\n",
      "[Val #7] Loss: 0.0555 Acc: 99.2754% Time: 1513.9425s\n",
      "F1-Score 0.9927007299270074\n",
      "F1-Score 0.9928057553956835\n",
      "[Test ] Loss: 0.0506 Acc: 99.2857% Timwsee: 1525.8853s\n",
      "              precision    recall  f1-score   support\n",
      "\n",
      "           0       1.00      0.99      0.99        71\n",
      "           1       0.99      1.00      0.99        69\n",
      "\n",
      "    accuracy                           0.99       140\n",
      "   macro avg       0.99      0.99      0.99       140\n",
      "weighted avg       0.99      0.99      0.99       140\n",
      "\n",
      "Epoch 8 running\n",
      "[Train #8] Loss: 0.1093 Acc: 96.4286% Time: 1635.9025s\n",
      "F1-Score 0.9644513137557961\n",
      "[Val #8] Loss: 0.0628 Acc: 99.2754% Time: 1647.4341s\n",
      "F1-Score 0.9927007299270074\n",
      "F1-Score 0.9928057553956835\n",
      "[Test ] Loss: 0.0450 Acc: 99.2857% Timwsee: 1658.9362s\n",
      "              precision    recall  f1-score   support\n",
      "\n",
      "           0       1.00      0.99      0.99        71\n",
      "           1       0.99      1.00      0.99        69\n",
      "\n",
      "    accuracy                           0.99       140\n",
      "   macro avg       0.99      0.99      0.99       140\n",
      "weighted avg       0.99      0.99      0.99       140\n",
      "\n",
      "Epoch 9 running\n",
      "[Train #9] Loss: 0.1172 Acc: 95.8074% Time: 1778.4031s\n",
      "F1-Score 0.9578783151326052\n",
      "[Val #9] Loss: 0.0422 Acc: 97.8261% Time: 1790.0460s\n",
      "F1-Score 0.9781021897810219\n",
      "F1-Score 1.0\n",
      "[Test ] Loss: 0.0384 Acc: 100.0000% Timwsee: 1800.1008s\n",
      "              precision    recall  f1-score   support\n",
      "\n",
      "           0       1.00      1.00      1.00        70\n",
      "           1       1.00      1.00      1.00        70\n",
      "\n",
      "    accuracy                           1.00       140\n",
      "   macro avg       1.00      1.00      1.00       140\n",
      "weighted avg       1.00      1.00      1.00       140\n",
      "\n"
     ]
    }
   ],
   "source": [
    "num_epochs = 10   #(set no of epochs)\n",
    "start_time = time.time() #(for showing time)\n",
    "\n",
    "for epoch in range(num_epochs): #(loop for every epoch)\n",
    "    print(\"Epoch {} running\".format(epoch)) #(printing message)\n",
    "    \"\"\" Training Phase \"\"\"\n",
    "    model.train()    #(training model)\n",
    "    running_loss = 0.   #(set loss 0)\n",
    "    running_corrects = 0 \n",
    "    # load a batch data of images\n",
    "    targets = []\n",
    "    results = []\n",
    "    for i, (inputs, labels) in enumerate(train_dataloader):\n",
    "        inputs = inputs.to(device)\n",
    "        labels = labels.to(device) \n",
    "        # forward inputs and get output\n",
    "        optimizer.zero_grad()\n",
    "        outputs = model(inputs)\n",
    "        _, preds = torch.max(outputs, 1)\n",
    "        loss = criterion(outputs, labels)\n",
    "        results.append(preds)\n",
    "        targets.append(labels)\n",
    "        # get loss value and update the network weights\n",
    "        loss.backward()\n",
    "        optimizer.step()\n",
    "        running_loss += loss.item() * inputs.size(0)\n",
    "        running_corrects += torch.sum(preds == labels.data)\n",
    "    results =torch.cat(results, dim=0)\n",
    "    targets = torch.cat(targets, dim=0)\n",
    "\n",
    "    results = results.to('cpu').numpy().flatten()\n",
    "    targets = targets.to('cpu').numpy().flatten()\n",
    "\n",
    "    f1_value =  f1_score(results, targets)\n",
    "    epoch_loss = running_loss / len(train_dataset)\n",
    "    epoch_acc = running_corrects / len(train_dataset) * 100.\n",
    "    print('[Train #{}] Loss: {:.4f} Acc: {:.4f}% Time: {:.4f}s'.format(epoch, epoch_loss, epoch_acc, time.time() -start_time))\n",
    "    print('F1-Score', f1_value)\n",
    "    \"\"\" Val Phase \"\"\"\n",
    "    model.eval()\n",
    "    with torch.no_grad():\n",
    "        running_loss = 0.\n",
    "        running_corrects = 0\n",
    "        targets = []\n",
    "        results = []\n",
    "        for inputs, labels in val_dataloader:\n",
    "            inputs = inputs.to(device)\n",
    "            labels = labels.to(device)\n",
    "            outputs = model(inputs)\n",
    "            _, preds = torch.max(outputs, 1)\n",
    "            results.append(preds)\n",
    "            targets.append(labels)\n",
    "            loss = criterion(outputs, labels)\n",
    "            running_loss += loss.item() * inputs.size(0)\n",
    "            running_corrects += torch.sum(preds == labels.data)\n",
    "        epoch_loss = running_loss / len(val_dataset)\n",
    "        epoch_acc = running_corrects / len(val_dataset) * 100.\n",
    "        results = torch.cat(results, dim=0)\n",
    "        targets =torch.cat(targets, dim=0)\n",
    "        results = results.to('cpu').numpy().flatten()\n",
    "        targets = targets.to('cpu').numpy().flatten()\n",
    "        f1_value =  f1_score(results, targets)\n",
    "        print('[Val #{}] Loss: {:.4f} Acc: {:.4f}% Time: {:.4f}s'.format(epoch, epoch_loss, epoch_acc, time.time()- start_time))\n",
    "        print('F1-Score', f1_value)\n",
    "    model.eval()\n",
    "    with torch.no_grad():\n",
    "        running_loss = 0.\n",
    "        running_corrects = 0\n",
    "        targets = []\n",
    "        results = []\n",
    "        for inputs, labels in test_dataloader:\n",
    "            inputs = inputs.to(device)\n",
    "            labels = labels.to(device)\n",
    "            outputs = model(inputs)\n",
    "            _, preds = torch.max(outputs, 1)\n",
    "            results.append(preds)\n",
    "            targets.append(labels)\n",
    "            loss = criterion(outputs, labels)\n",
    "            running_loss += loss.item() * inputs.size(0)\n",
    "            running_corrects += torch.sum(preds == labels.data)\n",
    "        epoch_loss = running_loss / len(test_dataset)\n",
    "        epoch_acc = running_corrects / len(test_dataset) * 100.\n",
    "        results = torch.cat(results, dim=0)\n",
    "        targets =torch.cat(targets, dim=0)\n",
    "        results = results.to('cpu').numpy().flatten()\n",
    "        targets = targets.to('cpu').numpy().flatten()\n",
    "        f1_value =  f1_score(results, targets)\n",
    "        print('F1-Score', f1_value)\n",
    "        print('[Test ] Loss: {:.4f} Acc: {:.4f}% Timwsee: {:.4f}s'.format( epoch_loss, epoch_acc, time.time()- start_time))\n",
    "        print(classification_report(results,targets))"
   ]
  },
  {
   "cell_type": "code",
   "execution_count": null,
   "metadata": {},
   "outputs": [
    {
     "name": "stdout",
     "output_type": "stream",
     "text": [
      "F1-Score 0.9855072463768115\n",
      "[Test ] Loss: 0.0612 Acc: 98.5714% Timwsee: 1980.4562s\n",
      "              precision    recall  f1-score   support\n",
      "\n",
      "           0       1.00      0.97      0.99        72\n",
      "           1       0.97      1.00      0.99        68\n",
      "\n",
      "    accuracy                           0.99       140\n",
      "   macro avg       0.99      0.99      0.99       140\n",
      "weighted avg       0.99      0.99      0.99       140\n",
      "\n"
     ]
    }
   ],
   "source": [
    "model.eval()\n",
    "with torch.no_grad():\n",
    "    running_loss = 0.\n",
    "    running_corrects = 0\n",
    "    targets = []\n",
    "    results = []\n",
    "    for inputs, labels in test_dataloader:\n",
    "        inputs = inputs.to(device)\n",
    "        labels = labels.to(device)\n",
    "        outputs = model(inputs)\n",
    "        _, preds = torch.max(outputs, 1)\n",
    "        results.append(preds)\n",
    "        targets.append(labels)\n",
    "        loss = criterion(outputs, labels)\n",
    "        running_loss += loss.item() * inputs.size(0)\n",
    "        running_corrects += torch.sum(preds == labels.data)\n",
    "    epoch_loss = running_loss / len(test_dataset)\n",
    "    epoch_acc = running_corrects / len(test_dataset) * 100.\n",
    "    results = torch.cat(results, dim=0)\n",
    "    targets =torch.cat(targets, dim=0)\n",
    "    results = results.to('cpu').numpy().flatten()\n",
    "    targets = targets.to('cpu').numpy().flatten()\n",
    "    f1_value =  f1_score(results, targets)\n",
    "    print('F1-Score', f1_value)\n",
    "    print('[Test ] Loss: {:.4f} Acc: {:.4f}% Timwsee: {:.4f}s'.format( epoch_loss, epoch_acc, time.time()- start_time))\n",
    "    print(classification_report(results,targets))"
   ]
  },
  {
   "cell_type": "code",
   "execution_count": null,
   "metadata": {},
   "outputs": [
    {
     "data": {
      "image/png": "[encoded data removed]",
      "text/plain": [
       "<Figure size 640x480 with 2 Axes>"
      ]
     },
     "metadata": {},
     "output_type": "display_data"
    }
   ],
   "source": [
    "\n",
    "# Compute the confusion matrix.\n",
    "cm = confusion_matrix(results,targets)\n",
    "# Plot the confusion matrix.\n",
    "# Plot the confusion matrix.\n",
    "new_labels = list(set(targets))\n",
    "new_labels.sort()\n",
    "sns.heatmap(cm, annot=True, fmt='g', xticklabels=new_labels, yticklabels=new_labels)\n",
    "plt.ylabel('Prediction',fontsize=13)\n",
    "plt.xlabel('Actual',fontsize=13)\n",
    "plt.title('Confusion Matrix',fontsize=17)\n",
    "plt.show()"
   ]
  },
  {
   "cell_type": "code",
   "execution_count": 18,
   "metadata": {},
   "outputs": [],
   "source": [
    "torch.save(model.state_dict(), \"regnet2.pt\")"
   ]
  },
  {
   "cell_type": "code",
   "execution_count": 20,
   "metadata": {},
   "outputs": [
    {
     "data": {
      "text/plain": [
       "<All keys matched successfully>"
      ]
     },
     "execution_count": 20,
     "metadata": {},
     "output_type": "execute_result"
    }
   ],
   "source": [
    "model2 =models.regnet_x_1_6gf()\n",
    "num_features = model2.fc.in_features   \n",
    "model2.fc = nn.Linear(num_features, 2) \n",
    "model2.load_state_dict(torch.load(\"regnet2.pt\"))"
   ]
  }
 ],
 "metadata": {
  "kernelspec": {
   "display_name": "Python 3",
   "language": "python",
   "name": "python3"
  },
  "language_info": {
   "codemirror_mode": {
    "name": "ipython",
    "version": 3
   },
   "file_extension": ".py",
   "mimetype": "text/x-python",
   "name": "python",
   "nbconvert_exporter": "python",
   "pygments_lexer": "ipython3",
   "version": "3.7.12"
  },
  "orig_nbformat": 4
 },
 "nbformat": 4,
 "nbformat_minor": 2
}
