{
 "cells": [
  {
   "cell_type": "code",
   "execution_count": 11,
   "metadata": {},
   "outputs": [],
   "source": [
    "import imageio\n",
    "import numpy as np\n",
    "import matplotlib.pyplot as plt"
   ]
  },
  {
   "cell_type": "code",
   "execution_count": 25,
   "metadata": {},
   "outputs": [],
   "source": [
    "class ISODATA:\n",
    "    def __init__(self, image_path, starting_number_of_clusters=20, desired_number_of_clusters=10,\n",
    "                 maximum_number_of_clusters=50, minimum_number_of_pixels_per_cluster=50,\n",
    "                 exclusion_distance=200, closeness_criterion=30, elongation_criterion=16,\n",
    "                 maximum_number_of_iterations=35, maximum_number_of_clusters_that_can_be_merged_at_one_time=2,\n",
    "                 relative_decline_in_inter_cluster_center_distance=1,\n",
    "                 absolute_value_of_inter_cluster_center_distance=5):\n",
    "        # Read the image into a NumPy array\n",
    "        image = imageio.imread(image_path)\n",
    "\n",
    "        # Convert the image to a 2D array of pixels\n",
    "        self.data = image.reshape((-1, 1))\n",
    "        \n",
    "        # Initialize the array to store the cluster assignments\n",
    "        self.closest = np.zeros(self.data.shape[0], dtype=int)\n",
    "        \n",
    "        # Initialize the centroids attribute\n",
    "        self.centroids = None\n",
    "        \n",
    "        # Store the parameters as attributes\n",
    "        self.starting_number_of_clusters = starting_number_of_clusters\n",
    "        self.desired_number_of_clusters = desired_number_of_clusters\n",
    "        self.maximum_number_of_clusters = maximum_number_of_clusters\n",
    "        self.minimum_number_of_pixels_per_cluster = minimum_number_of_pixels_per_cluster\n",
    "        self.exclusion_distance = exclusion_distance\n",
    "        self.closeness_criterion = closeness_criterion\n",
    "        self.elongation_criterion = elongation_criterion\n",
    "        self.maximum_number_of_iterations = maximum_number_of_iterations\n",
    "        self.maximum_number_of_clusters_that_can_be_merged_at_one_time = maximum_number_of_clusters_that_can_be_merged_at_one_time\n",
    "        self.relative_decline_in_inter_cluster_center_distance = relative_decline_in_inter_cluster_center_distance\n",
    "        self.absolute_value_of_inter_cluster_center_distance = absolute_value_of_inter_cluster_center_distance\n",
    "\n",
    "    def initialize_centroids(self):\n",
    "        \"\"\"returns k centroids from the initial points\"\"\"\n",
    "        centroids = self.data.copy()\n",
    "        np.random.shuffle(centroids)\n",
    "        self.centroids = centroids[:self.starting_number_of_clusters]\n",
    "\n",
    "    def closest_centroid(self):\n",
    "        \"\"\"returns an array containing the index to the nearest centroid for each point\"\"\"\n",
    "        distances = np.sqrt(((self.data - self.centroids[:, np.newaxis])**2).sum(axis=2))\n",
    "        self.closest = np.argmin(distances, axis=0)\n",
    "\n",
    "    def move_centroids(self):\n",
    "        \"\"\"returns the new centroids assigned from the points closest to them\"\"\"\n",
    "        self.centroids = np.array([self.data[self.closest==k].mean(axis=0) for k in range(self.centroids.shape[0])])\n",
    "    \n",
    "    def split_clusters(self):\n",
    "        \"\"\"Split clusters if the standard deviation along any dimension is greater than the user-defined split threshold\"\"\"\n",
    "        new_centroids = []\n",
    "        for k in range(self.centroids.shape[0]):\n",
    "            cluster_data = self.data[self.closest==k]\n",
    "            if cluster_data.shape[0] > 0:\n",
    "                std_devs = np.std(cluster_data, axis=0)\n",
    "                if np.any(std_devs > self.elongation_criterion):\n",
    "                    new_centroids.append(self.centroids[k] - std_devs)\n",
    "                    new_centroids.append(self.centroids[k] + std_devs)\n",
    "                else:\n",
    "                    new_centroids.append(self.centroids[k])\n",
    "        self.centroids = np.array(new_centroids)\n",
    "\n",
    "    def merge_clusters(self):\n",
    "        \"\"\"Merge clusters if their separation distance in multispectral feature space is less than a user-specified value\"\"\"\n",
    "        new_centroids = self.centroids.copy()\n",
    "        all_centroids= self.centroids.copy()\n",
    "        num_merged = 0\n",
    "        for i in range(self.centroids.shape[0]):\n",
    "            for j in range(i+1, self.centroids.shape[0]):\n",
    "                dist = np.sqrt(np.sum((self.centroids[i] - self.centroids[j])**2))\n",
    "                if dist < self.closeness_criterion:\n",
    "                    new_centroid = (self.centroids[i] + self.centroids[j]) / 2\n",
    "                    new_centroids[i] = new_centroid\n",
    "                    new_centroids = np.delete(all_centroids, j, axis=0)\n",
    "                    num_merged += 1\n",
    "                    if num_merged >= self.maximum_number_of_clusters_that_can_be_merged_at_one_time:\n",
    "                        break\n",
    "            if num_merged >= self.maximum_number_of_clusters_that_can_be_merged_at_one_time:\n",
    "                break\n",
    "        self.centroids = new_centroids\n",
    "\n",
    "    def delete_clusters(self):\n",
    "        \"\"\"Delete clusters if they have fewer members than a user-specified minimum\"\"\"\n",
    "        new_centroids = []\n",
    "        for k in range(self.centroids.shape[0]):\n",
    "            cluster_size = np.sum(self.closest == k)\n",
    "            if cluster_size >= self.minimum_number_of_pixels_per_cluster:\n",
    "                new_centroids.append(self.centroids[k])\n",
    "        self.centroids = np.array(new_centroids)\n",
    "\n",
    "    def run(self):\n",
    "        \"\"\"Run the ISODATA algorithm\"\"\"\n",
    "        # Initialize the centroids\n",
    "        self.initialize_centroids()\n",
    "        \n",
    "        for i in range(self.maximum_number_of_iterations):\n",
    "            # Assign each data point to the closest centroid\n",
    "            self.closest_centroid()\n",
    "            \n",
    "            # Move the centroids to the mean of the points assigned to them\n",
    "            old_centroids = self.centroids.copy()\n",
    "            self.move_centroids()\n",
    "            \n",
    "            # Check for convergence\n",
    "            if np.allclose(old_centroids, self.centroids):\n",
    "                print(f\"Converged after {i+1} iterations\")\n",
    "                break\n",
    "            \n",
    "            # Split clusters if necessary\n",
    "            self.split_clusters()\n",
    "            \n",
    "            # Merge clusters if necessary\n",
    "            self.merge_clusters()\n",
    "            \n",
    "            # Delete clusters if necessary\n",
    "            self.delete_clusters()\n",
    "            \n",
    "            print(f\"Iteration {i+1}: {self.centroids.shape[0]} clusters\")"
   ]
  },
  {
   "cell_type": "code",
   "execution_count": 26,
   "metadata": {},
   "outputs": [
    {
     "name": "stderr",
     "output_type": "stream",
     "text": [
      "C:\\Users\\rorod\\AppData\\Local\\Temp\\ipykernel_10008\\344635288.py:1: DeprecationWarning: Starting with ImageIO v3 the behavior of this function will switch to that of iio.v3.imread. To keep the current behavior (and make this warning disappear) use `import imageio.v2 as imageio` or call `imageio.v2.imread` directly.\n",
      "  image = imageio.imread(\"D:/Fourth_Year/Second_Term/BD/Flooding-Detection/dataset/flooded/0.jpg\")\n"
     ]
    }
   ],
   "source": [
    "image = imageio.imread(\"D:/Fourth_Year/Second_Term/BD/Flooding-Detection/dataset/flooded/0.jpg\")"
   ]
  },
  {
   "cell_type": "code",
   "execution_count": 27,
   "metadata": {},
   "outputs": [
    {
     "name": "stderr",
     "output_type": "stream",
     "text": [
      "C:\\Users\\rorod\\AppData\\Local\\Temp\\ipykernel_10008\\4001447959.py:9: DeprecationWarning: Starting with ImageIO v3 the behavior of this function will switch to that of iio.v3.imread. To keep the current behavior (and make this warning disappear) use `import imageio.v2 as imageio` or call `imageio.v2.imread` directly.\n",
      "  image = imageio.imread(image_path)\n",
      "C:\\Users\\rorod\\AppData\\Local\\Temp\\ipykernel_10008\\4001447959.py:46: RuntimeWarning: Mean of empty slice.\n",
      "  self.centroids = np.array([self.data[self.closest==k].mean(axis=0) for k in range(self.centroids.shape[0])])\n",
      "c:\\Users\\rorod\\miniforge3\\envs\\new_python_nlp\\lib\\site-packages\\numpy\\core\\_methods.py:182: RuntimeWarning: invalid value encountered in divide\n",
      "  ret = um.true_divide(\n"
     ]
    },
    {
     "name": "stdout",
     "output_type": "stream",
     "text": [
      "Iteration 1: 15 clusters\n",
      "Iteration 2: 12 clusters\n",
      "Iteration 3: 11 clusters\n",
      "Iteration 4: 10 clusters\n",
      "Iteration 5: 9 clusters\n",
      "Iteration 6: 8 clusters\n",
      "Iteration 7: 7 clusters\n",
      "Iteration 8: 6 clusters\n",
      "Iteration 9: 6 clusters\n",
      "Iteration 10: 6 clusters\n",
      "Iteration 11: 6 clusters\n",
      "Iteration 12: 6 clusters\n",
      "Iteration 13: 6 clusters\n",
      "Iteration 14: 6 clusters\n",
      "Iteration 15: 6 clusters\n",
      "Iteration 16: 6 clusters\n",
      "Iteration 17: 6 clusters\n",
      "Iteration 18: 6 clusters\n",
      "Iteration 19: 6 clusters\n",
      "Iteration 20: 6 clusters\n",
      "Iteration 21: 6 clusters\n",
      "Iteration 22: 6 clusters\n",
      "Converged after 23 iterations\n"
     ]
    }
   ],
   "source": [
    "onj=ISODATA(\"D:/Fourth_Year/Second_Term/BD/Flooding-Detection/dataset/flooded/0.jpg\")\n",
    "onj.run()"
   ]
  },
  {
   "cell_type": "code",
   "execution_count": 35,
   "metadata": {},
   "outputs": [],
   "source": [
    "# result= onj.closest.reshape((image.shape[0], image.shape[1]))"
   ]
  },
  {
   "cell_type": "code",
   "execution_count": 31,
   "metadata": {},
   "outputs": [
    {
     "data": {
      "text/plain": [
       "(1503, 1509, 3)"
      ]
     },
     "execution_count": 31,
     "metadata": {},
     "output_type": "execute_result"
    }
   ],
   "source": [
    "result.shape"
   ]
  },
  {
   "cell_type": "code",
   "execution_count": 32,
   "metadata": {},
   "outputs": [
    {
     "ename": "ValueError",
     "evalue": "NumPy boolean array indexing assignment cannot assign 4 input values to the 929032 output values where the mask is true",
     "output_type": "error",
     "traceback": [
      "\u001b[1;31m---------------------------------------------------------------------------\u001b[0m",
      "\u001b[1;31mValueError\u001b[0m                                Traceback (most recent call last)",
      "Cell \u001b[1;32mIn[32], line 9\u001b[0m\n\u001b[0;32m      7\u001b[0m \u001b[39m# Fill the mask array with colors corresponding to the cluster assignments\u001b[39;00m\n\u001b[0;32m      8\u001b[0m \u001b[39mfor\u001b[39;00m k \u001b[39min\u001b[39;00m \u001b[39mrange\u001b[39m(onj\u001b[39m.\u001b[39mcentroids\u001b[39m.\u001b[39mshape[\u001b[39m0\u001b[39m]):\n\u001b[1;32m----> 9\u001b[0m     mask[result \u001b[39m==\u001b[39;49m k] \u001b[39m=\u001b[39m colors[k]\n\u001b[0;32m     11\u001b[0m \u001b[39m# Display the original image and the mask\u001b[39;00m\n\u001b[0;32m     12\u001b[0m plt\u001b[39m.\u001b[39mimshow(image)\n",
      "\u001b[1;31mValueError\u001b[0m: NumPy boolean array indexing assignment cannot assign 4 input values to the 929032 output values where the mask is true"
     ]
    }
   ],
   "source": [
    "\n",
    "# Create a new image array filled with zeros\n",
    "mask = np.zeros_like(image)\n",
    "\n",
    "# Assign colors to each cluster\n",
    "colors = plt.cm.jet(np.linspace(0, 1, onj.centroids.shape[0]))\n",
    "\n",
    "# Fill the mask array with colors corresponding to the cluster assignments\n",
    "for k in range(onj.centroids.shape[0]):\n",
    "    mask[result == k] = colors[k]\n",
    "\n",
    "# Display the original image and the mask\n",
    "plt.imshow(image)\n",
    "plt.imshow(mask, alpha=0.5)\n",
    "plt.show()\n"
   ]
  },
  {
   "cell_type": "code",
   "execution_count": null,
   "metadata": {},
   "outputs": [],
   "source": []
  }
 ],
 "metadata": {
  "kernelspec": {
   "display_name": "Python 3",
   "language": "python",
   "name": "python3"
  },
  "language_info": {
   "codemirror_mode": {
    "name": "ipython",
    "version": 3
   },
   "file_extension": ".py",
   "mimetype": "text/x-python",
   "name": "python",
   "nbconvert_exporter": "python",
   "pygments_lexer": "ipython3",
   "version": "3.9.15"
  },
  "orig_nbformat": 4,
  "vscode": {
   "interpreter": {
    "hash": "0eefc6a63c6d719296cee5685f23fefb92aa63e2e9fdaf52ddbdc4ce266c7bb3"
   }
  }
 },
 "nbformat": 4,
 "nbformat_minor": 2
}
