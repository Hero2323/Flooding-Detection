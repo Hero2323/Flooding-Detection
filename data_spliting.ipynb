{
 "cells": [
  {
   "cell_type": "code",
   "execution_count": 1,
   "metadata": {},
   "outputs": [],
   "source": [
    "import shutil\n",
    "import os\n",
    "import numpy as np"
   ]
  },
  {
   "cell_type": "code",
   "execution_count": 2,
   "metadata": {},
   "outputs": [],
   "source": [
    "# # Creating Train / Val / Test folders (One time use)\n",
    "# this  runs once\n",
    "root_dir = 'Data'\n",
    "posCls = '/flooded'\n",
    "negCls = '/non-flooded'\n",
    "\n",
    "os.makedirs(root_dir +'/train' + posCls)\n",
    "os.makedirs(root_dir +'/train' + negCls)\n",
    "os.makedirs(root_dir +'/val' + posCls)\n",
    "os.makedirs(root_dir +'/val' + negCls)\n",
    "os.makedirs(root_dir +'/test' + posCls)\n",
    "os.makedirs(root_dir +'/test' + negCls)\n",
    "\n",
    "# Creating partitions of the data after shuffeling\n",
    "currentCls = posCls\n",
    "src = \"dataset\"+currentCls # Folder to copy images from\n",
    "\n",
    "allFileNames = os.listdir(src)\n",
    "np.random.shuffle(allFileNames)\n",
    "train_FileNames, val_FileNames, test_FileNames = np.split(np.array(allFileNames),\n",
    "                                                          [int(len(allFileNames)*0.7), int(len(allFileNames)*0.85)])\n",
    "\n",
    "\n",
    "train_FileNames = [src+'/'+ name for name in train_FileNames.tolist()]\n",
    "val_FileNames = [src+'/' + name for name in val_FileNames.tolist()]\n",
    "test_FileNames = [src+'/' + name for name in test_FileNames.tolist()]\n",
    "\n",
    "# Copy-pasting images\n",
    "for name in train_FileNames:\n",
    "    shutil.copy(name, \"Data/train\"+currentCls)\n",
    "\n",
    "for name in val_FileNames:\n",
    "    shutil.copy(name, \"Data/val\"+currentCls)\n",
    "\n",
    "for name in test_FileNames:\n",
    "    shutil.copy(name, \"Data/test\"+currentCls)\n",
    "# Creating partitions of the data after shuffeling\n",
    "currentCls = negCls\n",
    "src = \"dataset\"+currentCls # Folder to copy images from\n",
    "\n",
    "allFileNames = os.listdir(src)\n",
    "np.random.shuffle(allFileNames)\n",
    "train_FileNames, val_FileNames, test_FileNames = np.split(np.array(allFileNames),\n",
    "                                                          [int(len(allFileNames)*0.7), int(len(allFileNames)*0.85)])\n",
    "\n",
    "\n",
    "train_FileNames = [src+'/'+ name for name in train_FileNames.tolist()]\n",
    "val_FileNames = [src+'/' + name for name in val_FileNames.tolist()]\n",
    "test_FileNames = [src+'/' + name for name in test_FileNames.tolist()]\n",
    "\n",
    "# Copy-pasting images\n",
    "for name in train_FileNames:\n",
    "    shutil.copy(name, \"Data/train\"+currentCls)\n",
    "\n",
    "for name in val_FileNames:\n",
    "    shutil.copy(name, \"Data/val\"+currentCls)\n",
    "\n",
    "for name in test_FileNames:\n",
    "    shutil.copy(name, \"Data/test\"+currentCls)\n",
    "\n"
   ]
  }
 ],
 "metadata": {
  "kernelspec": {
   "display_name": "Python 3",
   "language": "python",
   "name": "python3"
  },
  "language_info": {
   "codemirror_mode": {
    "name": "ipython",
    "version": 3
   },
   "file_extension": ".py",
   "mimetype": "text/x-python",
   "name": "python",
   "nbconvert_exporter": "python",
   "pygments_lexer": "ipython3",
   "version": "3.8.5"
  },
  "orig_nbformat": 4,
  "vscode": {
   "interpreter": {
    "hash": "0eefc6a63c6d719296cee5685f23fefb92aa63e2e9fdaf52ddbdc4ce266c7bb3"
   }
  }
 },
 "nbformat": 4,
 "nbformat_minor": 2
}
